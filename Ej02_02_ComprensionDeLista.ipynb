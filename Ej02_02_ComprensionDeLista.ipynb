{
 "cells": [
  {
   "cell_type": "markdown",
   "metadata": {},
   "source": [
    "## Ejemplo 2.2. Comprensión de Listas\n",
    "Una comprensión de listas solo se usa para generar una lista, mientras que un lazo (for .. in ..), se puede usar para hacer muchas cosas diferentes."
   ]
  },
  {
   "cell_type": "code",
   "execution_count": 5,
   "metadata": {},
   "outputs": [
    {
     "data": {
      "text/plain": [
       "[36, 162, 163, 165, 8364, 164]"
      ]
     },
     "execution_count": 5,
     "metadata": {},
     "output_type": "execute_result"
    }
   ],
   "source": [
    "symbols = '$¢£¥€¤'\n",
    "codes = [ord(symbol) for symbol in symbols]\n",
    "codes\n"
   ]
  },
  {
   "cell_type": "code",
   "execution_count": 7,
   "metadata": {},
   "outputs": [
    {
     "data": {
      "text/plain": [
       "['a', 'b', 'c', 'd']"
      ]
     },
     "execution_count": 7,
     "metadata": {},
     "output_type": "execute_result"
    }
   ],
   "source": [
    "lista1 = ['a', 'b', \n",
    "'c', \n",
    "'d']\n",
    "lista1"
   ]
  },
  {
   "cell_type": "code",
   "execution_count": 10,
   "metadata": {},
   "outputs": [
    {
     "data": {
      "text/plain": [
       "[1, 4, 6, 7, 12, 13]"
      ]
     },
     "execution_count": 10,
     "metadata": {},
     "output_type": "execute_result"
    }
   ],
   "source": [
    "lista2 = [1, 4, 6, 7,\n",
    "12, 13]\n",
    "lista2"
   ]
  },
  {
   "cell_type": "code",
   "execution_count": 19,
   "metadata": {},
   "outputs": [
    {
     "data": {
      "text/plain": [
       "67"
      ]
     },
     "execution_count": 19,
     "metadata": {},
     "output_type": "execute_result"
    }
   ],
   "source": [
    "x = 'ABC'\n",
    "#codes = [ord(x) for x in x]\n",
    "#x  \n",
    "#codes\n",
    "codes = [ultimo := ord(b) for b in x]\n",
    "#codes\n",
    "ultimo  \n",
    "#b"
   ]
  },
  {
   "cell_type": "code",
   "execution_count": 24,
   "metadata": {},
   "outputs": [
    {
     "data": {
      "text/plain": [
       "[('negra', 'S'),\n",
       " ('negra', 'M'),\n",
       " ('negra', 'L'),\n",
       " ('blanca', 'S'),\n",
       " ('blanca', 'M'),\n",
       " ('blanca', 'L')]"
      ]
     },
     "execution_count": 24,
     "metadata": {},
     "output_type": "execute_result"
    }
   ],
   "source": [
    "#Producto cartesiano de categorías.\n",
    "colores = ['negra', 'blanca']\n",
    "tamaños = ['S', 'M', 'L']\n",
    "camisetas = [(color, tamaño) for color in colores\n",
    "                             for tamaño in tamaños]\n",
    "camisetas"
   ]
  },
  {
   "cell_type": "code",
   "execution_count": 25,
   "metadata": {},
   "outputs": [
    {
     "data": {
      "text/plain": [
       "(36, 162, 163, 165, 8364, 164)"
      ]
     },
     "execution_count": 25,
     "metadata": {},
     "output_type": "execute_result"
    }
   ],
   "source": [
    "#Ejemplo 2.5. Inicializando una tupla.\n",
    "symbols = '$¢£¥€¤'\n",
    "tuple(ord(symbol) for symbol in symbols) #En vez de [] se usan ()."
   ]
  },
  {
   "cell_type": "code",
   "execution_count": 26,
   "metadata": {},
   "outputs": [
    {
     "data": {
      "text/plain": [
       "array('I', [36, 162, 163, 165, 8364, 164])"
      ]
     },
     "execution_count": 26,
     "metadata": {},
     "output_type": "execute_result"
    }
   ],
   "source": [
    "#Ejemplo 2.5. Inicializando un array.\n",
    "import array\n",
    "array.array('I', (ord(symbol) for symbol in symbols)) \n",
    "#La 'I' es el tipo de variable, Integer?. "
   ]
  },
  {
   "cell_type": "code",
   "execution_count": 27,
   "metadata": {},
   "outputs": [
    {
     "name": "stdout",
     "output_type": "stream",
     "text": [
      "(negra, S)\n",
      "(negra, M)\n",
      "(negra, L)\n",
      "(blanca, S)\n",
      "(blanca, M)\n",
      "(blanca, L)\n"
     ]
    }
   ],
   "source": [
    "#Producto cartesiano de tupla.\n",
    "colores = ['negra', 'blanca']\n",
    "tamaños = ['S', 'M', 'L']\n",
    "for camisetas in (f'({c}, {s})' for c in colores for s in tamaños):\n",
    "    print(camisetas)\n",
    "#La 'expresión generadora' produce los elementos uno a uno.\n",
    "# Una lista con todas las variaciones de camisetas nunca se produce."
   ]
  },
  {
   "cell_type": "code",
   "execution_count": 31,
   "metadata": {},
   "outputs": [
    {
     "name": "stdout",
     "output_type": "stream",
     "text": [
      "USA\n",
      "BRA\n",
      "ESP\n"
     ]
    }
   ],
   "source": [
    "traveler_ids = [('USA', '31195855'), ('BRA', 'CE342567'),  ('ESP', 'XDA205856')]\n",
    "#for passport in sorted(traveler_ids):\n",
    "#    print('%s/%s' % passport)\n",
    "for pais, _ in traveler_ids:\n",
    "    print(pais)"
   ]
  },
  {
   "cell_type": "code",
   "execution_count": 32,
   "metadata": {},
   "outputs": [
    {
     "data": {
      "text/plain": [
       "'Tokyo'"
      ]
     },
     "execution_count": 32,
     "metadata": {},
     "output_type": "execute_result"
    }
   ],
   "source": [
    "city, year, pop, chg, area = ('Tokyo', 2003, 32_450, 0.66, 8014)\n",
    "city"
   ]
  }
 ],
 "metadata": {
  "kernelspec": {
   "display_name": "Python 3.10.0 64-bit",
   "language": "python",
   "name": "python3"
  },
  "language_info": {
   "codemirror_mode": {
    "name": "ipython",
    "version": 3
   },
   "file_extension": ".py",
   "mimetype": "text/x-python",
   "name": "python",
   "nbconvert_exporter": "python",
   "pygments_lexer": "ipython3",
   "version": "3.10.0"
  },
  "orig_nbformat": 4,
  "vscode": {
   "interpreter": {
    "hash": "956945c4d179e0bc7075b9b95aec63dccb93bc4f3d6914856b29e4b2389f5448"
   }
  }
 },
 "nbformat": 4,
 "nbformat_minor": 2
}
